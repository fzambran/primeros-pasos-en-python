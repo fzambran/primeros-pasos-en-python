{
  "cells": [
    {
      "cell_type": "markdown",
      "metadata": {
        "id": "view-in-github",
        "colab_type": "text"
      },
      "source": [
        "<a href=\"https://colab.research.google.com/github/fzambran/primeros-pasos-en-python/blob/main/dds_python_clase_1.ipynb\" target=\"_parent\"><img src=\"https://colab.research.google.com/assets/colab-badge.svg\" alt=\"Open In Colab\"/></a>"
      ]
    },
    {
      "cell_type": "markdown",
      "metadata": {
        "id": "MCLKxDgH63zR"
      },
      "source": [
        "<img src=\"https://datascience.uc.cl/images/workshop/python.png\" width=\"500\">\n",
        "\n",
        "Más información sobre nuestros programas en el siguiente [link](https://datascience.uc.cl/).\n",
        "\n",
        "## Clase 1: Base de Python\n",
        "\n",
        "### Contenidos de hoy:\n",
        "\n",
        "* [¿Qué es Python?](#queespython).\n",
        "* [Primer código en Python](#primercodigoenpython).\n",
        "* [Variables](#variables).\n",
        "* [Colecciones de datos](#coleccionesdedatos).\n",
        "* [Subconjuntos de datos](#subconjuntosdedatos).\n",
        "* [Métodos importantes para listas](#metodosimportantesparalistas).\n",
        "* [Funciones importantes para listas](#funcionesimportantesparalistas).\n",
        "* [Operadores](#operadores).\n",
        "* [Estructuras condicionales](#estructurascondicionales).\n",
        "* [Loops](#loops).\n",
        "* [Listas por comprensión](#listasporcomprension).\n",
        "* [Ejercicios de práctica](#ejerciciosdepractica)."
      ]
    },
    {
      "cell_type": "markdown",
      "metadata": {
        "id": "FJAW4O6f63zW"
      },
      "source": [
        "<a id=\"queespython\"></a>\n",
        "### ¿Qué es Python?"
      ]
    },
    {
      "cell_type": "markdown",
      "metadata": {
        "id": "ZCJfUCUN63zX"
      },
      "source": [
        "<img \n",
        "    src=\"https://dataismm.ai/wp-content/uploads/2019/04/python-transparent-background.png\" \n",
        "    alt=\"\"\n",
        "    style=\"width:500px;\">\n",
        "\n",
        "*Lanzado en 1989*. Última versión estable: 3.10.2 (14/01/2022)\n"
      ]
    },
    {
      "cell_type": "markdown",
      "metadata": {
        "id": "GWK005w_63zX"
      },
      "source": [
        "* Lenguaje de programación multiparadigma: programación funcional, orientada a objetos e imperativa.\n",
        "* Lenguaje de alto nivel.\n",
        "* Sencillo de aprender por su alta similitud con el lenguaje humano.\n",
        "* Lenguaje interpretado.\n",
        "* Utiliza identación.\n",
        "* De tipado fuerte y dinámico.\n",
        "* Gran comunidad debido a sus amplias posibilidades.\n",
        "* Facilita el trabajo con Inteligencia Artificial, Big Data, Machine Learning y Data Science.\n",
        "* Actualmente, aplicaciones como *Spotify* o *Netflix* se desarrollan bajo este lenguaje."
      ]
    },
    {
      "cell_type": "markdown",
      "metadata": {
        "id": "d1n7oUob63zY"
      },
      "source": [
        "<a id=\"primercodigoenpython\"></a>\n",
        "### Primer código en Python\n",
        "* Con la función `print` podemos mostrar un mensaje en pantalla."
      ]
    },
    {
      "cell_type": "code",
      "execution_count": null,
      "metadata": {
        "colab": {
          "base_uri": "https://localhost:8080/"
        },
        "id": "3PHPkWzG63zY",
        "outputId": "c4d85837-f122-466f-8ddd-984c34d34465"
      },
      "outputs": [
        {
          "name": "stdout",
          "output_type": "stream",
          "text": [
            "Hola mundo!\n"
          ]
        }
      ],
      "source": [
        "# Ejemplo: mostrar en pantalla el mensaje \"Hola mundo!\"\n",
        "print(\"Hola mundo!\")"
      ]
    },
    {
      "cell_type": "code",
      "execution_count": null,
      "metadata": {
        "colab": {
          "base_uri": "https://localhost:8080/"
        },
        "id": "VhaWxX2g63za",
        "outputId": "a60f3698-4b66-4526-870b-2295ec763e0c"
      },
      "outputs": [
        {
          "name": "stdout",
          "output_type": "stream",
          "text": [
            "The Zen of Python, by Tim Peters\n",
            "\n",
            "Beautiful is better than ugly.\n",
            "Explicit is better than implicit.\n",
            "Simple is better than complex.\n",
            "Complex is better than complicated.\n",
            "Flat is better than nested.\n",
            "Sparse is better than dense.\n",
            "Readability counts.\n",
            "Special cases aren't special enough to break the rules.\n",
            "Although practicality beats purity.\n",
            "Errors should never pass silently.\n",
            "Unless explicitly silenced.\n",
            "In the face of ambiguity, refuse the temptation to guess.\n",
            "There should be one-- and preferably only one --obvious way to do it.\n",
            "Although that way may not be obvious at first unless you're Dutch.\n",
            "Now is better than never.\n",
            "Although never is often better than *right* now.\n",
            "If the implementation is hard to explain, it's a bad idea.\n",
            "If the implementation is easy to explain, it may be a good idea.\n",
            "Namespaces are one honking great idea -- let's do more of those!\n"
          ]
        }
      ],
      "source": [
        "# Ejemplo: Mostrar Zen de Python\n",
        "import this"
      ]
    },
    {
      "cell_type": "markdown",
      "metadata": {
        "id": "x30DCYGY63zb"
      },
      "source": [
        "* Podemos usar Python como una calculadora. \n",
        "* El orden de las operaciones se realizan acorde a las propiedades matemáticas."
      ]
    },
    {
      "cell_type": "code",
      "execution_count": null,
      "metadata": {
        "colab": {
          "base_uri": "https://localhost:8080/"
        },
        "id": "AqaqdL7p63zb",
        "outputId": "9d6a4b4c-c965-4b56-b5eb-72b5e6d993a0"
      },
      "outputs": [
        {
          "name": "stdout",
          "output_type": "stream",
          "text": [
            "0.0\n"
          ]
        }
      ],
      "source": [
        "# Ejemplo de cálculo\n",
        "print(12 + 3 - 5 * 9 / 3)"
      ]
    },
    {
      "cell_type": "markdown",
      "metadata": {
        "id": "EybGQnnR63zc"
      },
      "source": [
        "<a id=\"variables\"></a>\n",
        "### Variables\n",
        "<img \n",
        "    src=\"https://elpythonista.com/wp-content/uploads/2020/11/Variables_En_Python-1-768x432.jpg\" \n",
        "    alt=\"\"\n",
        "    style=\"width:500px;\">"
      ]
    },
    {
      "cell_type": "markdown",
      "metadata": {
        "id": "dshmIlmA63zd"
      },
      "source": [
        "* Nos permiten guardar distintos tipos de objetos en la memoria para volver a ser reutilizados.\n",
        "* Algunos tipos de variables habituales son: `float`, `int`, `str` y `bool`.\n",
        "* Comprobamos el tipo de variable con la función `type`.\n",
        "* Veamos algunos ejemplos:"
      ]
    },
    {
      "cell_type": "code",
      "execution_count": null,
      "metadata": {
        "colab": {
          "base_uri": "https://localhost:8080/"
        },
        "id": "K3_h_QEN63zd",
        "outputId": "8a9bb0d7-0e63-4727-d113-f5d5cb03f96a"
      },
      "outputs": [
        {
          "name": "stdout",
          "output_type": "stream",
          "text": [
            "35300\n",
            "31500.0\n",
            "1582600.0\n"
          ]
        }
      ],
      "source": [
        "# Ejemplo 1: Calcular el dinero a repartir si en total hay 50 trabajadores, \n",
        "# dos de ellos reciben el doble de $17,650 \n",
        "# y el resto recibe $30,000 con una bonificación adicional del 5%\n",
        "trabajador_1 = 2 * 17650\n",
        "trabajador_2 = 30000 * 1.05\n",
        "print(trabajador_1)\n",
        "print(trabajador_2)\n",
        "total = 2 * trabajador_1 + 48 * trabajador_2\n",
        "print(total)"
      ]
    },
    {
      "cell_type": "code",
      "execution_count": null,
      "metadata": {
        "colab": {
          "base_uri": "https://localhost:8080/"
        },
        "id": "3-Q67IQF63ze",
        "outputId": "eb41c4a1-d143-4b9f-fa7e-22ab580cd364"
      },
      "outputs": [
        {
          "name": "stdout",
          "output_type": "stream",
          "text": [
            "tipo de variable trabajador_1: <class 'int'>\n",
            "trabajador_2: <class 'float'>\n",
            "total: <class 'float'>\n"
          ]
        }
      ],
      "source": [
        "# Comprobemos los tipos de variable resultantes\n",
        "print(\"tipo de variable trabajador_1:\", type(trabajador_1))\n",
        "print(\"trabajador_2:\", type(trabajador_2))\n",
        "print(\"total:\", type(total))"
      ]
    },
    {
      "cell_type": "code",
      "execution_count": null,
      "metadata": {
        "colab": {
          "base_uri": "https://localhost:8080/"
        },
        "id": "LAEZRQPq63ze",
        "outputId": "37379a03-7699-43c9-c447-c5dc582f503b"
      },
      "outputs": [
        {
          "name": "stdout",
          "output_type": "stream",
          "text": [
            "esru2022@datascience.cl\n"
          ]
        }
      ],
      "source": [
        "# Ejemplo 2: Crear correo con su nombre, \n",
        "# debe estar compuesto por las dos primeras letras de su nombre y apellido más el número 2022 \n",
        "# y ser de dominio @datascience.cl\n",
        "nombre = \"esru\"\n",
        "numero = 2022\n",
        "dominio = \"@datascience.cl\"\n",
        "correo = nombre + str(numero) + dominio\n",
        "print(correo)"
      ]
    },
    {
      "cell_type": "code",
      "execution_count": null,
      "metadata": {
        "colab": {
          "base_uri": "https://localhost:8080/"
        },
        "id": "qYvYfvit63zf",
        "outputId": "244d4291-bfb8-4f10-d069-fae2e80c2014"
      },
      "outputs": [
        {
          "name": "stdout",
          "output_type": "stream",
          "text": [
            "<class 'str'>\n",
            "<class 'int'>\n",
            "<class 'str'>\n",
            "<class 'str'>\n"
          ]
        }
      ],
      "source": [
        "## Comprobemos los tipos\n",
        "print(type(nombre))\n",
        "print(type(numero))\n",
        "print(type(dominio))\n",
        "print(type(correo))"
      ]
    },
    {
      "cell_type": "markdown",
      "metadata": {
        "id": "mPr5t3Ow63zf"
      },
      "source": [
        "<a id=\"coleccionesdedatos\"></a>\n",
        "### Colecciones de datos\n",
        "\n",
        "* Se pueden definir como un conjunto de objetos (o estructura de datos) dentro de una variable.\n",
        "* Entre los que más destacan: `listas`, `tuplas` y `diccionarios`.\n",
        "* `Listas`: Contienen un set de valores que son guardados de forma secuencial. Es mutable, es decir, se pueden agregar, quitar o modificar elementos dentro de este.\n",
        "* `Tuplas`: Estas no son mutables, pero tienen la ventaja de usar menos memoria y ser más rápidas.\n",
        "* `Diccionarios`: Estos tienen la ventaja de poder identificar cada elementos a través de una `llave o key`."
      ]
    },
    {
      "cell_type": "code",
      "execution_count": null,
      "metadata": {
        "colab": {
          "base_uri": "https://localhost:8080/"
        },
        "id": "8EYygrTz63zf",
        "outputId": "39b40c17-304b-4d27-a162-2741ce71ed9b"
      },
      "outputs": [
        {
          "name": "stdout",
          "output_type": "stream",
          "text": [
            "[1000, 500, 3000, 5000, 100]\n",
            "(1000, 500, 3000, 5000, 100)\n",
            "{'esteban': 30, 'alexis': 50, 'claudia': 30}\n"
          ]
        }
      ],
      "source": [
        "# Ejemplo de lista\n",
        "precios = [1000, 500, 3000, 5000, 100]\n",
        "\n",
        "# Ejemplo de tupla\n",
        "precios_tupla = (1000, 500, 3000, 5000, 100)\n",
        "\n",
        "# Ejemplo de diccionario\n",
        "diccionario_edades = {\"esteban\": 30, \"alexis\": 50, \"claudia\": 30}\n",
        "\n",
        "print(precios)\n",
        "print(precios_tupla)\n",
        "print(diccionario_edades)"
      ]
    },
    {
      "cell_type": "markdown",
      "metadata": {
        "id": "3YcH6mxC63zg"
      },
      "source": [
        "* También podemos almacenar objetos de distinto tipo:"
      ]
    },
    {
      "cell_type": "code",
      "execution_count": null,
      "metadata": {
        "colab": {
          "base_uri": "https://localhost:8080/"
        },
        "id": "qnPcROgp63zg",
        "outputId": "ea2ab11e-4089-4dbc-a179-07744beec240"
      },
      "outputs": [
        {
          "name": "stdout",
          "output_type": "stream",
          "text": [
            "[30, 'esteban', [30, 40, 50, 60], 'Cristian']\n"
          ]
        }
      ],
      "source": [
        "# Lista con objetos de distinto tipo\n",
        "lista_cosas = [30, \"esteban\", [30, 40, 50, 60], \"Cristian\"]\n",
        "print(lista_cosas)"
      ]
    },
    {
      "cell_type": "markdown",
      "metadata": {
        "id": "fk7H9Clb63zg"
      },
      "source": [
        "<a id=\"subconjuntosdedatos\"></a>\n",
        "### Subconjuntos de datos\n",
        "<img src=\"https://cdn.programiz.com/sites/tutorial2program/files/python-list-index.png\" width=\"500px\">"
      ]
    },
    {
      "cell_type": "markdown",
      "metadata": {
        "id": "WQQ3wNPd63zg"
      },
      "source": [
        "* Frecuentemente necesitamos trabajar con subconjuntos de datos.\n",
        "* Se realiza de distintas formas, dependiendo del tipo de objeto.\n",
        "* Para listas y tuplas, lo hacemos de forma numérica (*0-based indexing*). Además, podemos seleccionar más de un objeto.\n",
        "* Para `strings`, es de forma idéntica que las listas.\n",
        "* Para diccionarios, usamos el nombre de la `llave`."
      ]
    },
    {
      "cell_type": "code",
      "execution_count": null,
      "metadata": {
        "id": "arXhrCJr63zg"
      },
      "outputs": [],
      "source": [
        "lista1 = [\"Dulce\", \"Salado\", \"Amargo\", \"Ácido\", \"Neutro\"]\n",
        "#            0         1         2        3        4\n",
        "diccionario1 = {\"nombre\": \"Alexis Sánchez\", \"edad\": 33, \"club\": \"Inter\"}"
      ]
    },
    {
      "cell_type": "code",
      "execution_count": null,
      "metadata": {
        "colab": {
          "base_uri": "https://localhost:8080/"
        },
        "id": "r-cCNTV563zh",
        "outputId": "77ebe11a-f7fd-49e7-c343-2b766a96e812"
      },
      "outputs": [
        {
          "name": "stdout",
          "output_type": "stream",
          "text": [
            "primer objeto: Dulce\n",
            "penúltimo elemento: Ácido\n",
            "club de alexis: Inter\n"
          ]
        }
      ],
      "source": [
        "# Ejemplo 1: Seleccionar solo un objeto (indexing). Con corchetes\n",
        "print(\"primer objeto:\", lista1[0])\n",
        "print(\"penúltimo elemento:\", lista1[-2])\n",
        "print(\"club de alexis:\", diccionario1[\"club\"])"
      ]
    },
    {
      "cell_type": "markdown",
      "metadata": {
        "id": "sl8cYkqH63zh"
      },
      "source": [
        "* Tambien podemos seleccionar mutilples objetos (*slicing*).\n",
        "* Para ello usamos `inicio:fin`. Sin embargo, el ultimo elemento del *slicing* no es inclusivo."
      ]
    },
    {
      "cell_type": "code",
      "execution_count": null,
      "metadata": {
        "colab": {
          "base_uri": "https://localhost:8080/"
        },
        "id": "pfXkmH0063zh",
        "outputId": "d3264da7-f6f4-4828-ba67-a99869fbf1e8"
      },
      "outputs": [
        {
          "name": "stdout",
          "output_type": "stream",
          "text": [
            "['Dulce', 'Salado', 'Amargo', 'Ácido']\n",
            "['Dulce', 'Salado', 'Amargo', 'Ácido']\n",
            "['Salado', 'Amargo', 'Ácido']\n",
            "['Ácido', 'Neutro']\n"
          ]
        }
      ],
      "source": [
        "# Ejemplo 2: Selección multiple de objetos.\n",
        "# Quiero ver los 4 primeros elementos\n",
        "print(lista1[0:4])\n",
        "print(lista1[:4]) # Otra forma\n",
        "\n",
        "# Ver los elementos centrales\n",
        "print(lista1[1:4])\n",
        "print(lista1[-2:])"
      ]
    },
    {
      "cell_type": "markdown",
      "metadata": {
        "id": "5tn_ovUp63zi"
      },
      "source": [
        "<a id=\"metodosimportantesparalistas\"></a>\n",
        "### Métodos importantes para listas\n",
        "\n",
        "* `append` : Agregar elemento al final.\n",
        "* `pop`    : Retorna y elimina el objecto ubicado en el índice indicado.\n",
        "* `remove` : Se usa cuando se conoce el nombre del elemento pero no su posición.\n",
        "* `reverse`: Cambia dirección en que se encuetran ubicacos los elementos de una lista.\n",
        "* `sort`   : Por defecto, ordena elementos de menor a mayor.\n",
        "* `index`: Busca un elemento dentro de una lista y entrega la posición.\n",
        "* `join`: Une los elementos de una lista usando un separador.\n",
        "\n",
        "<a id=\"funcionesimportantesparalistas\"></a>\n",
        "### Funciones importantes para listas.\n",
        "\n",
        "* `len`      : Indica tamaño de lista.\n",
        "* `min`      : Mínimo valor dentro de lista.\n",
        "* `max`      : Máximo valor dentro de lista.\n",
        "* `sum`      : Suma elementos dentro de lista.\n",
        "* `zip`      : concatena listas en un objeto iterable, luego podemos usar la función `list` para acceder al resultado.\n",
        "* `enumerate`: Crea un containter donde cada posición esta compuesta por una tupla conteniendo el índice y elementos de una lista. Podemos usar la función `list` para acceder al resultado"
      ]
    },
    {
      "cell_type": "code",
      "execution_count": null,
      "metadata": {
        "id": "bOWv0SOK63zi"
      },
      "outputs": [],
      "source": [
        "precios = [1000, 2000, 1500, 300, 600, 500, 5000]\n",
        "nombres = [\"Esteban\", \"Sebastián\", \"Ana\", \"María\", \"Victoria\", \"Francisco\", \"Carlos\"]"
      ]
    },
    {
      "cell_type": "code",
      "execution_count": null,
      "metadata": {
        "colab": {
          "base_uri": "https://localhost:8080/"
        },
        "id": "oK8VQkii63zi",
        "outputId": "0e1eee1b-900b-43a8-e46a-f0bb3cc1582e"
      },
      "outputs": [
        {
          "name": "stdout",
          "output_type": "stream",
          "text": [
            "[1000, 2000, 1500, 300, 600, 500, 5000, 3000]\n"
          ]
        }
      ],
      "source": [
        "# Ejemplos de funciones y métodos\n",
        "\n",
        "# METODOS:\n",
        "# a precios agregarle al final el valor 3000\n",
        "precios.append(3000) # Esto no me muestra una lista, solo ejecuta la acción\n",
        "print(precios)"
      ]
    },
    {
      "cell_type": "code",
      "execution_count": null,
      "metadata": {
        "colab": {
          "base_uri": "https://localhost:8080/"
        },
        "id": "ZVKQxNy28OO8",
        "outputId": "0062743d-a2a2-471e-e9b3-13895d650e29"
      },
      "outputs": [
        {
          "name": "stdout",
          "output_type": "stream",
          "text": [
            "4\n"
          ]
        }
      ],
      "source": [
        "print(precios.index(600))"
      ]
    },
    {
      "cell_type": "code",
      "execution_count": null,
      "metadata": {
        "colab": {
          "base_uri": "https://localhost:8080/",
          "height": 166
        },
        "id": "8SqAg1Wz8iY_",
        "outputId": "afa56b3e-c32b-467c-f2a4-6fb1ef52e18e"
      },
      "outputs": [
        {
          "ename": "AttributeError",
          "evalue": "ignored",
          "output_type": "error",
          "traceback": [
            "\u001b[0;31m---------------------------------------------------------------------------\u001b[0m",
            "\u001b[0;31mAttributeError\u001b[0m                            Traceback (most recent call last)",
            "\u001b[0;32m<ipython-input-32-18c909aa49f2>\u001b[0m in \u001b[0;36m<module>\u001b[0;34m()\u001b[0m\n\u001b[0;32m----> 1\u001b[0;31m \u001b[0mprecios_tupla\u001b[0m\u001b[0;34m.\u001b[0m\u001b[0mappend\u001b[0m\u001b[0;34m(\u001b[0m\u001b[0;36m200\u001b[0m\u001b[0;34m)\u001b[0m\u001b[0;34m\u001b[0m\u001b[0;34m\u001b[0m\u001b[0m\n\u001b[0m",
            "\u001b[0;31mAttributeError\u001b[0m: 'tuple' object has no attribute 'append'"
          ]
        }
      ],
      "source": [
        "precios_tupla.append(200)"
      ]
    },
    {
      "cell_type": "code",
      "execution_count": null,
      "metadata": {
        "colab": {
          "base_uri": "https://localhost:8080/"
        },
        "id": "JnGIBdHy63zi",
        "outputId": "2b60620e-fa90-4335-cc09-baa6f7c1b48f"
      },
      "outputs": [
        {
          "name": "stdout",
          "output_type": "stream",
          "text": [
            "8\n",
            "300\n"
          ]
        }
      ],
      "source": [
        "# FUNCIONES:\n",
        "# tamaño de precios:\n",
        "print(len(precios))\n",
        "\n",
        "# mínimo de precios\n",
        "print(min(precios))"
      ]
    },
    {
      "cell_type": "code",
      "execution_count": null,
      "metadata": {
        "id": "kKQjA8Y163zi"
      },
      "outputs": [],
      "source": [
        "# zip: Combinar elementos entre dos listas, uno a uno.\n",
        "nombres.append(\"Carolina\")"
      ]
    },
    {
      "cell_type": "code",
      "execution_count": null,
      "metadata": {
        "id": "qojwr0WE9WOo"
      },
      "outputs": [],
      "source": [
        "valores_y_nombre = list(zip(nombres, precios))"
      ]
    },
    {
      "cell_type": "code",
      "execution_count": null,
      "metadata": {
        "colab": {
          "base_uri": "https://localhost:8080/"
        },
        "id": "xuNYOit7-fhR",
        "outputId": "766b31da-5eca-489a-e026-88cb0f1a00b2"
      },
      "outputs": [
        {
          "name": "stdout",
          "output_type": "stream",
          "text": [
            "['Esteban', 'Sebastián', 'Ana', 'María', 'Victoria', 'Francisco', 'Carlos', 'Carolina']\n",
            "[1000, 2000, 1500, 300, 600, 500, 5000, 3000]\n",
            "[('Esteban', 1000), ('Sebastián', 2000), ('Ana', 1500), ('María', 300), ('Victoria', 600), ('Francisco', 500), ('Carlos', 5000), ('Carolina', 3000)]\n"
          ]
        }
      ],
      "source": [
        "print(nombres)\n",
        "print(precios)\n",
        "print(valores_y_nombre)"
      ]
    },
    {
      "cell_type": "code",
      "execution_count": null,
      "metadata": {
        "colab": {
          "base_uri": "https://localhost:8080/"
        },
        "id": "uXSzOQtJ-OU6",
        "outputId": "390722bb-3f6f-4f0c-d68f-84ad36e4f898"
      },
      "outputs": [
        {
          "name": "stdout",
          "output_type": "stream",
          "text": [
            "('María', 300)\n"
          ]
        }
      ],
      "source": [
        "print(valores_y_nombre[3])"
      ]
    },
    {
      "cell_type": "markdown",
      "metadata": {
        "id": "81BS8J2A63zj"
      },
      "source": [
        "<a id=\"operadores\"></a>\n",
        "### Operadores\n",
        "* **Operadores aritméticos**  : Involucran operaciones matemáticas. Se encuentran `+`, `-`, `*`, `/`, `**` (potencia), `//` (división entera), `%` (resto de la división o módulo).\n",
        "* **Operadores comparativos** : Estas expresiones comparan dos valores y evaluan si son `True` o `False`. Estos son `<`,   `>`,  `<=`, `>=`, `==` (igual a), `!=` (distinto a), `is`.\n",
        "* **Operadores lógicos**      : Estos operan entre elementos que son del tipo booleano (`True/False`). Encontramos a `or`, `and`, `not`.\n",
        "* **Operadores de asignación**: Estos asignan un valor a una variable u operador. Están `=`, `+=`, `-=`, `*=`, `/=`, entre otros.\n",
        "* **Operadores de membresía** : Comprueban si un valor en particular se encuentran en una colección (como `listas` o `tuplas`). Son `in` y `not in`."
      ]
    },
    {
      "cell_type": "code",
      "execution_count": null,
      "metadata": {
        "colab": {
          "base_uri": "https://localhost:8080/"
        },
        "id": "YII7ISaB63zj",
        "outputId": "59dedc3a-37ac-4d68-bba8-4f7a62f078f8"
      },
      "outputs": [
        {
          "name": "stdout",
          "output_type": "stream",
          "text": [
            "8\n",
            "3\n",
            "1\n"
          ]
        }
      ],
      "source": [
        "# Ejemplos de operadores\n",
        "print(2 ** 3)\n",
        "print(10 // 3)\n",
        "print(10 % 3)"
      ]
    },
    {
      "cell_type": "code",
      "execution_count": null,
      "metadata": {
        "colab": {
          "base_uri": "https://localhost:8080/"
        },
        "id": "RHmDhoOiC0Ir",
        "outputId": "e6dd187f-766b-4dcc-be8a-cb14f6d802c2"
      },
      "outputs": [
        {
          "name": "stdout",
          "output_type": "stream",
          "text": [
            "True\n",
            "False\n",
            "True\n"
          ]
        }
      ],
      "source": [
        "print(10 >= 3)  # es mayor o igual\n",
        "print(20 == 10) # Es igual?\n",
        "print(5 != 1) # Es distinto?"
      ]
    },
    {
      "cell_type": "code",
      "execution_count": null,
      "metadata": {
        "colab": {
          "base_uri": "https://localhost:8080/"
        },
        "id": "-tpMGq1pD4xh",
        "outputId": "d40a8818-d513-4cb4-9dba-937e3276fa62"
      },
      "outputs": [
        {
          "name": "stdout",
          "output_type": "stream",
          "text": [
            "True\n",
            "False\n"
          ]
        }
      ],
      "source": [
        "print((2 > 3) or (10 == 10))\n",
        "print((2 > 3) and (10 == 10))"
      ]
    },
    {
      "cell_type": "code",
      "execution_count": null,
      "metadata": {
        "colab": {
          "base_uri": "https://localhost:8080/"
        },
        "id": "ISG2lom663zj",
        "outputId": "9016b45a-38ff-44f3-a6cb-66ac5f8ff8b3"
      },
      "outputs": [
        {
          "name": "stdout",
          "output_type": "stream",
          "text": [
            "3\n",
            "5\n"
          ]
        }
      ],
      "source": [
        "# Asignaciones\n",
        "valor = 3\n",
        "print(valor)\n",
        "# valor = valor + 2\n",
        "# Otra forma más rápida\n",
        "valor += 2\n",
        "print(valor)"
      ]
    },
    {
      "cell_type": "code",
      "execution_count": null,
      "metadata": {
        "colab": {
          "base_uri": "https://localhost:8080/"
        },
        "id": "Q-rBBL-z63zk",
        "outputId": "9071c300-18ae-4f61-89fa-7bf1da3a15a2"
      },
      "outputs": [
        {
          "name": "stdout",
          "output_type": "stream",
          "text": [
            "[1000, 2000, 1500, 300, 600, 500, 5000, 3000]\n",
            "True\n",
            "True\n"
          ]
        }
      ],
      "source": [
        "# Membresía\n",
        "print(precios)\n",
        "print(300 in precios)\n",
        "print(350 not in precios)"
      ]
    },
    {
      "cell_type": "markdown",
      "metadata": {
        "id": "e8nGjX3z63zk"
      },
      "source": [
        "<a id=\"estructurascondicionales\"></a>\n",
        "### Estructuras condicionales\n",
        "<img src=\"https://tcl.azureedge.net/p/images_ar/art_img/9b97d992-4ea9-4665-8da4-e8af86c502ff.jpg\" width=\"500px\">\n",
        "\n",
        "* Comprueba si una condición es verdadera o falsa, y en base a eso se lleva a cabo una acción.\n",
        "* Se lleva a cabo mediante las sentencias `if, elif y else`.\n",
        "* La sentencia `elif` (else if), comprueba una condición, si la condición de la sentencia `if` no se cumple. Podemos acumular tantas sentencias `elif` como necesitemos.\n",
        "* La sentencia `else` , la usamos cuando necesitamos ejecutar un bloque de código cuando ninguna de las condiciones anteriores se han cumplido.\n"
      ]
    },
    {
      "cell_type": "code",
      "execution_count": null,
      "metadata": {
        "colab": {
          "base_uri": "https://localhost:8080/"
        },
        "id": "d1c_cVh963zk",
        "outputId": "c40131a4-1882-46b1-e2d4-e6c1da6d1327"
      },
      "outputs": [
        {
          "name": "stdout",
          "output_type": "stream",
          "text": [
            "Somos demasiados!\n"
          ]
        }
      ],
      "source": [
        "# Ejemplo 1: sentencia if-elif-else\n",
        "asistencia = 1000\n",
        "\n",
        "if asistencia > 500:\n",
        "  print(\"Somos demasiados!\")\n",
        "elif asistencia > 200: # si no se cumple sentencia if\n",
        "  print(\"Gracias por venir!!!\")\n",
        "elif asistencia > 100:\n",
        "  print(\"Somos entre 100 y 200\")\n",
        "else: # en caso contrario\n",
        "  print(\"Somos pocos pero locos\")"
      ]
    },
    {
      "cell_type": "code",
      "execution_count": null,
      "metadata": {
        "colab": {
          "base_uri": "https://localhost:8080/"
        },
        "id": "maxLGIZL63zk",
        "outputId": "edf1e11d-73eb-4f8e-d1d6-5872bca0ef3e"
      },
      "outputs": [
        {
          "name": "stdout",
          "output_type": "stream",
          "text": [
            "bonificacion: True\n",
            "promedio final: 6.55\n"
          ]
        }
      ],
      "source": [
        "# Ejemplo 2: Dadas las notas de un curso, \n",
        "# el profesor decide añadir una bonificación de dos décimas \n",
        "# si el promedio de las notas es mayor a 5. \n",
        "# La bonificación será de 5 décimas si el promedio es mayor o igual a 6.\n",
        "# Decida si el curso recibirá la bonificación y \n",
        "# calcule el nuevo promedio incluyendo las décimas. \n",
        "notas = [5.5, 6.8, 6.5, 6.5, 6.0, 5.9, 7.0, 6.5, 3.6, 6.0, 6.2]\n",
        "\n",
        "bonificacion = False\n",
        "promedio = sum(notas) / len(notas)\n",
        "\n",
        "if promedio >= 6:\n",
        "  bonificacion = True\n",
        "  promedio += 0.5\n",
        "elif promedio > 5:\n",
        "  bonificacion = True\n",
        "  promedio += 0.2\n",
        "else:\n",
        "  print(\"No hay bonificación :( estudiar más!!\")\n",
        "\n",
        "print(\"bonificacion:\", bonificacion)\n",
        "print(\"promedio final:\", round(promedio, 2))"
      ]
    },
    {
      "cell_type": "markdown",
      "metadata": {
        "id": "eDsTwq3E63zk"
      },
      "source": [
        "<a id=\"loops\"></a>\n",
        "### Loops\n",
        "\n",
        "* Son usados para evaluar una porción de códido reiteradamente. Una sola ejecución de un bloque de código es llamada `iteración` y las estructuras iterativas van a través de múltiples rondas de iteraciones. En Python, las estructuras iterativas son `while` y `for`.\n",
        "* `for`: Es usado para ejecutar un bloque de código una cantidad predefinida de veces. Puede ser usadado con cualquier tipo de objeto iterable (como `listas` o `tuplas`). También es usado comúnmente con la función `range`.\n",
        "* `while`: Es usando cuando queremos ejecutar una instrucción en particular mientras una condición es `True`."
      ]
    },
    {
      "cell_type": "code",
      "execution_count": null,
      "metadata": {
        "colab": {
          "base_uri": "https://localhost:8080/"
        },
        "id": "IKQ7fjgG63zl",
        "outputId": "5d1047ec-52c4-410c-829d-c52805000278"
      },
      "outputs": [
        {
          "name": "stdout",
          "output_type": "stream",
          "text": [
            "['BUENAS', 'NOCHES!', 'GRACIAS', 'POR', 'ASISTIR', 'A', 'ESTOS', 'WORKSHOPS,', 'estamos', 'muy', 'contentos', 'de', 'recibirles.']\n",
            "['buenas', 'noches', 'gracias', 'por', 'asistir', 'a', 'estos', 'workshops', 'estamos', 'muy', 'contentos', 'de', 'recibirles']\n"
          ]
        }
      ],
      "source": [
        "discurso = \"BUENAS NOCHES! GRACIAS POR ASISTIR A ESTOS WORKSHOPS, estamos muy contentos de recibirles.\"\n",
        "# Ejemplo for: separe en espacios y convierta a minúsculas el discurso, elimine caracteres no deseados.\n",
        "# Esta limpieza es bastante común en NLP (análisis y procesamiento  de textos).\n",
        "\n",
        "# print(discurso.split())\n",
        "discurso_lista = discurso.split()\n",
        "\n",
        "palabras_limpias = []\n",
        "print(discurso_lista)\n",
        "\n",
        "for palabra in discurso_lista:\n",
        "  palabra_limpia = palabra.lower()\n",
        "  palabra_limpia = palabra_limpia.strip(\"!,.\") # Eliminar caracteres del final o principio\n",
        "  palabras_limpias.append(palabra_limpia)\n",
        "print(palabras_limpias)"
      ]
    },
    {
      "cell_type": "code",
      "execution_count": null,
      "metadata": {
        "id": "pkmNqnkd63zl"
      },
      "outputs": [],
      "source": [
        "# Ejemplo while;\n",
        "# Una aseguradora automotriz ha facilitado datos sobre \n",
        "# lo que les cuestan los accidentes de los vehículos asegurados en un día determinado.\n",
        "# Si la empresa dispone de $6,000,000 diarios, ¿cúantos accidentes aproximadamente \n",
        "# puede pagar sin generar pérdidas?\n",
        "costos_accidentes = [256954, 345935, 789987, 623545, 99123,\n",
        "                     123400, 523432, 345675, 754634, 237976,\n",
        "                     1135655, 569835, 629845, 293261, 748232]\n",
        "\n",
        "# Solución pendiente"
      ]
    },
    {
      "cell_type": "markdown",
      "metadata": {
        "id": "_KljApGh63zl"
      },
      "source": [
        "<a id=\"listasporcomprension\"></a>\n",
        "### Listas por comprensión\n",
        "Es una forma de crear listas a través de objetos iterables mucho más elegante y contraida respecto a la sentencia `for`. Además, se pueden añadir estructuras `if-else`."
      ]
    },
    {
      "cell_type": "code",
      "execution_count": null,
      "metadata": {
        "colab": {
          "base_uri": "https://localhost:8080/"
        },
        "id": "a31ckYwS63zl",
        "outputId": "f2e43997-068f-4901-c035-80944b497410"
      },
      "outputs": [
        {
          "name": "stdout",
          "output_type": "stream",
          "text": [
            "42\n",
            "5\n",
            "742\n"
          ]
        }
      ],
      "source": [
        "valores = [546, 964, 1135, 356, 653, 742, 899, 2000, 599]\n",
        "\n",
        "# Ejemplo 1: Decida cual de los siguientes valores es el más cercano a 700\n",
        "# Ver distancia más pequeña al 700 y quedarse con ese valor\n",
        "# abs(valor - 700) veo distancia entre el número y 700\n",
        "distancia_al_700 = [abs(valor - 700) for valor in valores]\n",
        "print(min(distancia_al_700))\n",
        "indice = distancia_al_700.index(42) # ¿En que posición esta el 42 (distancia más corta)?\n",
        "print(indice)\n",
        "print(valores[indice])"
      ]
    },
    {
      "cell_type": "code",
      "execution_count": null,
      "metadata": {
        "colab": {
          "base_uri": "https://localhost:8080/"
        },
        "id": "bk_ITUzV63zl",
        "outputId": "c6abe84d-f5f1-4dee-ce19-c4df83d4ed2f"
      },
      "outputs": [
        {
          "name": "stdout",
          "output_type": "stream",
          "text": [
            "[135, 1000]\n"
          ]
        }
      ],
      "source": [
        "# Ejemplo 2: Seleccione los valores superiores a mil, además resteles mil.\n",
        "print([valor - 1000 for valor in valores if valor > 1000])"
      ]
    },
    {
      "cell_type": "markdown",
      "metadata": {
        "id": "56uMzMr963zl"
      },
      "source": [
        "<a id=\"ejerciciosdepractica\"></a>\n",
        "### Ejercicios de práctica"
      ]
    },
    {
      "cell_type": "code",
      "execution_count": null,
      "metadata": {
        "id": "vMw4S2Pf63zm"
      },
      "outputs": [],
      "source": [
        "datos = [\n",
        "    {\"cancion\": \"Yonaguni\", \"artista\": \"Bad Bunny\", \"reproducciones\": \"25,030,128\"},\n",
        "    {\"cancion\": \"TE DESEO LO MEJOR\", \"artista\": \"Bad Bunny\", \"reproducciones\": \"6,204,228\"},\n",
        "    {\"cancion\": \"Jeans\", \"artista\": \"Justin Quiles\", \"reproducciones\": \"5,145,966\"},\n",
        "    {\"cancion\": \"Ponte Pa' Mi\", \"artista\": \"Justin Quiles\", \"reproducciones\": \"5,082,870\"},\n",
        "]"
      ]
    },
    {
      "cell_type": "markdown",
      "metadata": {
        "id": "xVf2gKn263zm"
      },
      "source": [
        "Usando los datos guardados en la variable `datos`, responda las siguientes preguntas:\n",
        "1. Indique el nombre de la canción mas largo."
      ]
    },
    {
      "cell_type": "code",
      "execution_count": null,
      "metadata": {
        "colab": {
          "base_uri": "https://localhost:8080/"
        },
        "id": "sekX_UTSgE_4",
        "outputId": "03a2c8be-4dd6-4286-bb1a-eeb43d41f770"
      },
      "outputs": [
        {
          "name": "stdout",
          "output_type": "stream",
          "text": [
            "17\n"
          ]
        }
      ],
      "source": [
        "largos = [len(dato[\"cancion\"]) for dato in datos]\n",
        "print(max(largos))"
      ]
    },
    {
      "cell_type": "code",
      "execution_count": null,
      "metadata": {
        "colab": {
          "base_uri": "https://localhost:8080/"
        },
        "id": "hR5aCC8Kgdrw",
        "outputId": "d79ed9bc-ea5e-4bc7-d60c-a54b9f56dabb"
      },
      "outputs": [
        {
          "name": "stdout",
          "output_type": "stream",
          "text": [
            "1\n"
          ]
        }
      ],
      "source": [
        "print(  largos.index(max(largos))  )"
      ]
    },
    {
      "cell_type": "code",
      "execution_count": null,
      "metadata": {
        "colab": {
          "base_uri": "https://localhost:8080/"
        },
        "id": "wyGxhO4xhDaY",
        "outputId": "08744a15-5eda-4856-ae47-a424b236caa2"
      },
      "outputs": [
        {
          "name": "stdout",
          "output_type": "stream",
          "text": [
            "{'cancion': 'TE DESEO LO MEJOR', 'artista': 'Bad Bunny', 'reproducciones': '6,204,228'}\n"
          ]
        }
      ],
      "source": [
        "print(datos[1])"
      ]
    },
    {
      "cell_type": "code",
      "execution_count": null,
      "metadata": {
        "colab": {
          "base_uri": "https://localhost:8080/"
        },
        "id": "jTuqe5bk63zm",
        "outputId": "ac6e0781-7d1a-465c-fb6d-56814c1e7c27"
      },
      "outputs": [
        {
          "name": "stdout",
          "output_type": "stream",
          "text": [
            "{'cancion': 'TE DESEO LO MEJOR', 'artista': 'Bad Bunny', 'reproducciones': '6,204,228'}\n"
          ]
        }
      ],
      "source": [
        "# Responda aquí:\n",
        "largo_canciones = [len(dato[\"cancion\"]) for dato in datos]\n",
        "indice = largo_canciones.index(max(largo_canciones))\n",
        "\n",
        "print(datos[indice])"
      ]
    },
    {
      "cell_type": "markdown",
      "metadata": {
        "id": "Pn-OVoQ_63zm"
      },
      "source": [
        "2. Escriba las reproducciones en el formato correcto. Verifique."
      ]
    },
    {
      "cell_type": "code",
      "execution_count": null,
      "metadata": {
        "colab": {
          "base_uri": "https://localhost:8080/"
        },
        "id": "I4t46-OT63zm",
        "outputId": "bb8adc69-2ca8-42cc-dc12-c36ffed3ed38"
      },
      "outputs": [
        {
          "name": "stdout",
          "output_type": "stream",
          "text": [
            "[<class 'str'>, <class 'str'>, <class 'str'>, <class 'str'>]\n",
            "['25,030,128', '6,204,228', '5,145,966', '5,082,870']\n"
          ]
        }
      ],
      "source": [
        "# Responda aquí:\n",
        "reproducciones_string   = [dato[\"reproducciones\"] for dato in datos]\n",
        "print([type(rep) for rep in reproducciones_string])\n",
        "print(reproducciones_string)"
      ]
    },
    {
      "cell_type": "code",
      "execution_count": null,
      "metadata": {
        "colab": {
          "base_uri": "https://localhost:8080/"
        },
        "id": "m-9i8HIw-FO_",
        "outputId": "67f004b6-0d39-4d37-ce18-a351ce056cae"
      },
      "outputs": [
        {
          "name": "stdout",
          "output_type": "stream",
          "text": [
            "['25030128', '6204228', '5145966', '5082870']\n"
          ]
        }
      ],
      "source": [
        "reproducciones_sin_coma = [\"\".join(rep.split(\",\")) for rep in reproducciones_string]\n",
        "print(reproducciones_sin_coma)\n",
        "reproducciones_int      = [int(rep) for rep in reproducciones_sin_coma]\n",
        "\n",
        "print(reproducciones_int)"
      ]
    },
    {
      "cell_type": "code",
      "execution_count": null,
      "metadata": {
        "colab": {
          "base_uri": "https://localhost:8080/"
        },
        "id": "Uj6tlZg7-FO_",
        "outputId": "3a525aff-9ce4-4b85-d7f1-ed9d91ccf809"
      },
      "outputs": [
        {
          "name": "stdout",
          "output_type": "stream",
          "text": [
            "[{'cancion': 'Yonaguni', 'artista': 'Bad Bunny', 'reproducciones': 25030128}, {'cancion': 'TE DESEO LO MEJOR', 'artista': 'Bad Bunny', 'reproducciones': 6204228}, {'cancion': 'Jeans', 'artista': 'Justin Quiles', 'reproducciones': 5145966}, {'cancion': \"Ponte Pa' Mi\", 'artista': 'Justin Quiles', 'reproducciones': 5082870}]\n"
          ]
        }
      ],
      "source": [
        "for i in range(len(datos)):\n",
        "    datos[i][\"reproducciones\"] = reproducciones_int[i]\n",
        "    \n",
        "print(datos)"
      ]
    },
    {
      "cell_type": "markdown",
      "metadata": {
        "id": "AveMQvHI63zm"
      },
      "source": [
        "3. ¿Cuántas reproducciones tiene cada artista presente en los datos?"
      ]
    },
    {
      "cell_type": "code",
      "execution_count": null,
      "metadata": {
        "colab": {
          "base_uri": "https://localhost:8080/"
        },
        "id": "CXePxZXN63zm",
        "outputId": "ac8457c2-b371-4131-fbb5-b050539559cd"
      },
      "outputs": [
        {
          "name": "stdout",
          "output_type": "stream",
          "text": [
            "artistas: ['Bad Bunny', 'Justin Quiles']\n"
          ]
        }
      ],
      "source": [
        "# Responda aquí:\n",
        "artistas = list(set([dato[\"artista\"] for dato in datos]))\n",
        "print(\"artistas:\", artistas)\n",
        "# O también escribir directamente ['Justin Quiles', 'Bad Bunny'] es válido."
      ]
    },
    {
      "cell_type": "code",
      "execution_count": null,
      "metadata": {
        "colab": {
          "base_uri": "https://localhost:8080/"
        },
        "id": "0GEYbzUe-FPA",
        "outputId": "8a52f47e-fba7-4541-ea55-c379c5ee12e8"
      },
      "outputs": [
        {
          "name": "stdout",
          "output_type": "stream",
          "text": [
            "{'Bad Bunny': 0, 'Justin Quiles': 0}\n"
          ]
        }
      ],
      "source": [
        "reproducciones = {artista: 0 for artista in artistas}\n",
        "print(reproducciones)\n",
        "# O escribir {'Justin Quiles': 0, 'Bad Bunny': 0} también es válido."
      ]
    },
    {
      "cell_type": "code",
      "execution_count": null,
      "metadata": {
        "colab": {
          "base_uri": "https://localhost:8080/"
        },
        "id": "UGv9vouY-FPA",
        "outputId": "1c2a8e97-af3e-43e2-eb53-e064a5797cb8"
      },
      "outputs": [
        {
          "name": "stdout",
          "output_type": "stream",
          "text": [
            "{'Bad Bunny': 31234356, 'Justin Quiles': 10228836}\n"
          ]
        }
      ],
      "source": [
        "for dato in datos:\n",
        "    reproducciones[dato[\"artista\"]] += dato[\"reproducciones\"]\n",
        "\n",
        "print(reproducciones)"
      ]
    }
  ],
  "metadata": {
    "colab": {
      "collapsed_sections": [],
      "name": "dds-python_clase-1.ipynb",
      "provenance": [],
      "include_colab_link": true
    },
    "interpreter": {
      "hash": "bc909b8a33c92e61f9d7229b2934b0ede9cfb342a1f2343fcce2bf0e4b4689cd"
    },
    "kernelspec": {
      "display_name": "Python 3.9.7 ('default')",
      "language": "python",
      "name": "python3"
    },
    "language_info": {
      "codemirror_mode": {
        "name": "ipython",
        "version": 3
      },
      "file_extension": ".py",
      "mimetype": "text/x-python",
      "name": "python",
      "nbconvert_exporter": "python",
      "pygments_lexer": "ipython3",
      "version": "3.9.12"
    },
    "orig_nbformat": 4
  },
  "nbformat": 4,
  "nbformat_minor": 0
}